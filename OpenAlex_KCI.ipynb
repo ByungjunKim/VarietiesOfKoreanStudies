{
 "cells": [
  {
   "cell_type": "markdown",
   "metadata": {},
   "source": [
    "# OpenAlex와 KCI 자료 통합 for STM"
   ]
  },
  {
   "cell_type": "code",
   "execution_count": 28,
   "metadata": {},
   "outputs": [],
   "source": [
    "import pandas as pd\n",
    "import glob\n",
    "from tqdm.auto import tqdm\n",
    "tqdm.pandas()\n",
    "import re"
   ]
  },
  {
   "cell_type": "code",
   "execution_count": 29,
   "metadata": {},
   "outputs": [],
   "source": [
    "kci_file = glob.glob('./kci_data/*.xls')"
   ]
  },
  {
   "cell_type": "code",
   "execution_count": 30,
   "metadata": {},
   "outputs": [
    {
     "data": {
      "application/vnd.jupyter.widget-view+json": {
       "model_id": "e27b0e8246174485a4df0f547cc2e397",
       "version_major": 2,
       "version_minor": 0
      },
      "text/plain": [
       "  0%|          | 0/4 [00:00<?, ?it/s]"
      ]
     },
     "metadata": {},
     "output_type": "display_data"
    }
   ],
   "source": [
    "kci = pd.DataFrame()\n",
    "for file in tqdm(kci_file):\n",
    "    temp = pd.read_excel(file)\n",
    "    kci = pd.concat([kci, temp], ignore_index=True)"
   ]
  },
  {
   "cell_type": "code",
   "execution_count": 31,
   "metadata": {},
   "outputs": [
    {
     "data": {
      "text/plain": [
       "0       10.25024/review.2023.26.2.001\n",
       "1       10.25024/review.2023.26.2.002\n",
       "2       10.25024/review.2023.26.2.003\n",
       "3       10.25024/review.2023.26.2.004\n",
       "4       10.25024/review.2023.26.2.007\n",
       "                    ...              \n",
       "2080                              NaN\n",
       "2081                              NaN\n",
       "2082                              NaN\n",
       "2083                              NaN\n",
       "2084                              NaN\n",
       "Name: DOI, Length: 2085, dtype: object"
      ]
     },
     "execution_count": 31,
     "metadata": {},
     "output_type": "execute_result"
    }
   ],
   "source": [
    "# kci.loc[~kci['DOI'].isnull(), 'DOI'] = 'https://doi.org/' + kci.loc[~kci['DOI'].isnull(), 'DOI']\n",
    "# kci['DOI'] = kci['DOI'].str.strip()\n",
    "kci['DOI']"
   ]
  },
  {
   "cell_type": "code",
   "execution_count": 32,
   "metadata": {},
   "outputs": [
    {
     "name": "stderr",
     "output_type": "stream",
     "text": [
      "/tmp/ipykernel_3350480/787711427.py:3: FutureWarning: Downcasting object dtype arrays on .fillna, .ffill, .bfill is deprecated and will change in a future version. Call result.infer_objects(copy=False) instead. To opt-in to the future behavior, set `pd.set_option('future.no_silent_downcasting', True)`\n",
      "  'https://doi.org/' + kci.loc[kci['DOI'].notna() & ~kci['DOI'].str.startswith('http').fillna(False), 'DOI']\n",
      "/tmp/ipykernel_3350480/787711427.py:2: FutureWarning: Downcasting object dtype arrays on .fillna, .ffill, .bfill is deprecated and will change in a future version. Call result.infer_objects(copy=False) instead. To opt-in to the future behavior, set `pd.set_option('future.no_silent_downcasting', True)`\n",
      "  kci.loc[kci['DOI'].notna() & ~kci['DOI'].str.startswith('http').fillna(False), 'DOI'] = \\\n",
      "/tmp/ipykernel_3350480/787711427.py:7: FutureWarning: Downcasting object dtype arrays on .fillna, .ffill, .bfill is deprecated and will change in a future version. Call result.infer_objects(copy=False) instead. To opt-in to the future behavior, set `pd.set_option('future.no_silent_downcasting', True)`\n",
      "  kci.loc[kci['DOI'].notna() & kci['DOI'].str.startswith('http').fillna(False), 'DOI'].str.replace('http://', 'https://', regex=False)\n",
      "/tmp/ipykernel_3350480/787711427.py:6: FutureWarning: Downcasting object dtype arrays on .fillna, .ffill, .bfill is deprecated and will change in a future version. Call result.infer_objects(copy=False) instead. To opt-in to the future behavior, set `pd.set_option('future.no_silent_downcasting', True)`\n",
      "  kci.loc[kci['DOI'].notna() & kci['DOI'].str.startswith('http').fillna(False), 'DOI'] = \\\n"
     ]
    }
   ],
   "source": [
    "# 'http'로 시작하지 않는 DOI에 'https://doi.org/' 추가 (NA 제외)\n",
    "kci.loc[kci['DOI'].notna() & ~kci['DOI'].str.startswith('http').fillna(False), 'DOI'] = \\\n",
    "    'https://doi.org/' + kci.loc[kci['DOI'].notna() & ~kci['DOI'].str.startswith('http').fillna(False), 'DOI']\n",
    "\n",
    "# 'http'로 시작하는 DOI를 'https'로 변경 (NA 제외)\n",
    "kci.loc[kci['DOI'].notna() & kci['DOI'].str.startswith('http').fillna(False), 'DOI'] = \\\n",
    "    kci.loc[kci['DOI'].notna() & kci['DOI'].str.startswith('http').fillna(False), 'DOI'].str.replace('http://', 'https://', regex=False)\n"
   ]
  },
  {
   "cell_type": "code",
   "execution_count": 33,
   "metadata": {},
   "outputs": [
    {
     "data": {
      "text/plain": [
       "0       https://doi.org/10.25024/review.2023.26.2.001\n",
       "1       https://doi.org/10.25024/review.2023.26.2.002\n",
       "2       https://doi.org/10.25024/review.2023.26.2.003\n",
       "3       https://doi.org/10.25024/review.2023.26.2.004\n",
       "4       https://doi.org/10.25024/review.2023.26.2.007\n",
       "                            ...                      \n",
       "2080                                              NaN\n",
       "2081                                              NaN\n",
       "2082                                              NaN\n",
       "2083                                              NaN\n",
       "2084                                              NaN\n",
       "Name: DOI, Length: 2085, dtype: object"
      ]
     },
     "execution_count": 33,
     "metadata": {},
     "output_type": "execute_result"
    }
   ],
   "source": [
    "kci['DOI']"
   ]
  },
  {
   "cell_type": "code",
   "execution_count": 34,
   "metadata": {},
   "outputs": [],
   "source": [
    "kci['DOI'] = kci['DOI'].str.strip()"
   ]
  },
  {
   "cell_type": "code",
   "execution_count": 35,
   "metadata": {},
   "outputs": [],
   "source": [
    "kci['origin'] = 'in'\n",
    "kci['oa_kci'] = 'kci'"
   ]
  },
  {
   "cell_type": "code",
   "execution_count": 36,
   "metadata": {},
   "outputs": [
    {
     "name": "stdout",
     "output_type": "stream",
     "text": [
      "                                  min   max\n",
      "학술지명                                       \n",
      "Acta Koreana                     2007  2023\n",
      "Korea Journal                    2002  2024\n",
      "Seoul Journal of Korean Studies  1988  2023\n",
      "The Review of Korean Studies     2002  2023\n"
     ]
    }
   ],
   "source": [
    "kci_range = kci.groupby('학술지명')['발행연도'].agg(['min', 'max'])\n",
    "print(kci_range)\n"
   ]
  },
  {
   "cell_type": "code",
   "execution_count": 37,
   "metadata": {},
   "outputs": [
    {
     "data": {
      "text/plain": [
       "3379"
      ]
     },
     "execution_count": 37,
     "metadata": {},
     "output_type": "execute_result"
    }
   ],
   "source": [
    "df = pd.read_pickle('./240402_KS_works.pkl')\n",
    "df['oa_kci'] = 'oa'\n",
    "len(df)"
   ]
  },
  {
   "cell_type": "code",
   "execution_count": 38,
   "metadata": {},
   "outputs": [],
   "source": [
    "# 텍스트 마이닝용 필요 columns\n",
    "df_filtered = df[['id','doi','journal','origin','title','publication_year','abstract','oa_kci','cited_by_count']]"
   ]
  },
  {
   "cell_type": "code",
   "execution_count": 39,
   "metadata": {},
   "outputs": [
    {
     "name": "stderr",
     "output_type": "stream",
     "text": [
      "/tmp/ipykernel_3350480/3660691786.py:3: SettingWithCopyWarning: \n",
      "A value is trying to be set on a copy of a slice from a DataFrame.\n",
      "Try using .loc[row_indexer,col_indexer] = value instead\n",
      "\n",
      "See the caveats in the documentation: https://pandas.pydata.org/pandas-docs/stable/user_guide/indexing.html#returning-a-view-versus-a-copy\n",
      "  kci_filtered['cited_by_count'] = pd.NA\n"
     ]
    }
   ],
   "source": [
    "kci_filtered = kci[['논문 ID','DOI','학술지명','origin','논문명','발행연도','초록','oa_kci']]\n",
    "kci_filtered.columns = ['id','doi','journal','origin','title','publication_year','abstract','oa_kci']\n",
    "kci_filtered['cited_by_count'] = pd.NA"
   ]
  },
  {
   "cell_type": "code",
   "execution_count": 40,
   "metadata": {},
   "outputs": [],
   "source": [
    "df_filtered.loc[df_filtered['doi'].isin(kci_filtered['doi']), 'abstract'] = kci_filtered.loc[kci_filtered['doi'].isin(df_filtered['doi']), 'abstract']"
   ]
  },
  {
   "cell_type": "code",
   "execution_count": 41,
   "metadata": {},
   "outputs": [],
   "source": [
    "df_filtered = df_filtered.merge(kci_filtered.dropna(subset='doi')[['doi', 'abstract']], on='doi', how='left', suffixes=('', '_kci'))\n",
    "df_filtered['abstract'] = df_filtered['abstract_kci'].fillna(df_filtered['abstract'])\n",
    "df_filtered = df_filtered.drop('abstract_kci', axis=1)"
   ]
  },
  {
   "cell_type": "code",
   "execution_count": 42,
   "metadata": {},
   "outputs": [
    {
     "data": {
      "text/html": [
       "<div>\n",
       "<style scoped>\n",
       "    .dataframe tbody tr th:only-of-type {\n",
       "        vertical-align: middle;\n",
       "    }\n",
       "\n",
       "    .dataframe tbody tr th {\n",
       "        vertical-align: top;\n",
       "    }\n",
       "\n",
       "    .dataframe thead th {\n",
       "        text-align: right;\n",
       "    }\n",
       "</style>\n",
       "<table border=\"1\" class=\"dataframe\">\n",
       "  <thead>\n",
       "    <tr style=\"text-align: right;\">\n",
       "      <th></th>\n",
       "      <th>id</th>\n",
       "      <th>doi</th>\n",
       "      <th>journal</th>\n",
       "      <th>origin</th>\n",
       "      <th>title</th>\n",
       "      <th>publication_year</th>\n",
       "      <th>abstract</th>\n",
       "      <th>oa_kci</th>\n",
       "      <th>cited_by_count</th>\n",
       "    </tr>\n",
       "  </thead>\n",
       "  <tbody>\n",
       "    <tr>\n",
       "      <th>0</th>\n",
       "      <td>https://openalex.org/W4384432764</td>\n",
       "      <td>https://doi.org/10.1353/seo.2023.a902140</td>\n",
       "      <td>Seoul Journal of Korean Studies</td>\n",
       "      <td>in</td>\n",
       "      <td>Felled Forests and Fallowed Fields: Establishi...</td>\n",
       "      <td>2023</td>\n",
       "      <td>Goryeo (918–1392) was a politically and commer...</td>\n",
       "      <td>oa</td>\n",
       "      <td>1</td>\n",
       "    </tr>\n",
       "    <tr>\n",
       "      <th>1</th>\n",
       "      <td>https://openalex.org/W4384432829</td>\n",
       "      <td>https://doi.org/10.1353/seo.2023.a902142</td>\n",
       "      <td>Seoul Journal of Korean Studies</td>\n",
       "      <td>in</td>\n",
       "      <td>The History of the Formation of Silhak in Mode...</td>\n",
       "      <td>2023</td>\n",
       "      <td>This article examines the historical trajector...</td>\n",
       "      <td>oa</td>\n",
       "      <td>1</td>\n",
       "    </tr>\n",
       "    <tr>\n",
       "      <th>2</th>\n",
       "      <td>https://openalex.org/W1578642520</td>\n",
       "      <td>https://doi.org/10.1353/seo.2015.0003</td>\n",
       "      <td>Seoul Journal of Korean Studies</td>\n",
       "      <td>in</td>\n",
       "      <td>Diplomatic War: Inter-Korean Relations in the ...</td>\n",
       "      <td>2015</td>\n",
       "      <td>The period of the 1970s was a turning point in...</td>\n",
       "      <td>oa</td>\n",
       "      <td>5</td>\n",
       "    </tr>\n",
       "    <tr>\n",
       "      <th>3</th>\n",
       "      <td>https://openalex.org/W1590043962</td>\n",
       "      <td>https://doi.org/10.1353/seo.2013.0023</td>\n",
       "      <td>Seoul Journal of Korean Studies</td>\n",
       "      <td>in</td>\n",
       "      <td>More Valuable than Gold: Korean Tungsten and t...</td>\n",
       "      <td>2013</td>\n",
       "      <td>A central component of the Japanese government...</td>\n",
       "      <td>oa</td>\n",
       "      <td>5</td>\n",
       "    </tr>\n",
       "    <tr>\n",
       "      <th>4</th>\n",
       "      <td>https://openalex.org/W210363985</td>\n",
       "      <td>https://doi.org/10.1353/seo.2014.0005</td>\n",
       "      <td>Seoul Journal of Korean Studies</td>\n",
       "      <td>in</td>\n",
       "      <td>Parhae in Historiography and Archaeology: Inte...</td>\n",
       "      <td>2014</td>\n",
       "      <td>The history of the kingdom of Parhae (Ch. Boha...</td>\n",
       "      <td>oa</td>\n",
       "      <td>5</td>\n",
       "    </tr>\n",
       "    <tr>\n",
       "      <th>...</th>\n",
       "      <td>...</td>\n",
       "      <td>...</td>\n",
       "      <td>...</td>\n",
       "      <td>...</td>\n",
       "      <td>...</td>\n",
       "      <td>...</td>\n",
       "      <td>...</td>\n",
       "      <td>...</td>\n",
       "      <td>...</td>\n",
       "    </tr>\n",
       "    <tr>\n",
       "      <th>3374</th>\n",
       "      <td>https://openalex.org/W2115655314</td>\n",
       "      <td>https://doi.org/10.1353/ks.1992.0016</td>\n",
       "      <td>Korean Studies</td>\n",
       "      <td>out</td>\n",
       "      <td>&lt;i&gt;The Bronze Age in Korea&lt;/i&gt; (review)</td>\n",
       "      <td>1992</td>\n",
       "      <td>128BOOK REVIEWS rather than philosophy. And if...</td>\n",
       "      <td>oa</td>\n",
       "      <td>0</td>\n",
       "    </tr>\n",
       "    <tr>\n",
       "      <th>3375</th>\n",
       "      <td>https://openalex.org/W2154921451</td>\n",
       "      <td>https://doi.org/10.1353/ks.1992.0014</td>\n",
       "      <td>Korean Studies</td>\n",
       "      <td>out</td>\n",
       "      <td>&amp;lt;i&amp;gt;Korea Old and New: A History&amp;lt;/i&amp;gt...</td>\n",
       "      <td>1992</td>\n",
       "      <td>Book Reviews Korea Old and New: A History, by ...</td>\n",
       "      <td>oa</td>\n",
       "      <td>0</td>\n",
       "    </tr>\n",
       "    <tr>\n",
       "      <th>3376</th>\n",
       "      <td>https://openalex.org/W2162052910</td>\n",
       "      <td>https://doi.org/10.1353/ks.1992.0007</td>\n",
       "      <td>Korean Studies</td>\n",
       "      <td>out</td>\n",
       "      <td>&amp;lt;i&amp;gt;Alliance Under Tension: The Evolution...</td>\n",
       "      <td>1992</td>\n",
       "      <td>BOOK REVIEWS123 These volumes are more than ju...</td>\n",
       "      <td>oa</td>\n",
       "      <td>0</td>\n",
       "    </tr>\n",
       "    <tr>\n",
       "      <th>3377</th>\n",
       "      <td>https://openalex.org/W4243393701</td>\n",
       "      <td>https://doi.org/10.1353/ks.1993.0020</td>\n",
       "      <td>Korean Studies</td>\n",
       "      <td>out</td>\n",
       "      <td>Contributors</td>\n",
       "      <td>1993</td>\n",
       "      <td>NaN</td>\n",
       "      <td>oa</td>\n",
       "      <td>0</td>\n",
       "    </tr>\n",
       "    <tr>\n",
       "      <th>3378</th>\n",
       "      <td>https://openalex.org/W4251211576</td>\n",
       "      <td>https://doi.org/10.1353/ks.1993.0009</td>\n",
       "      <td>Korean Studies</td>\n",
       "      <td>out</td>\n",
       "      <td>Editor's Note:</td>\n",
       "      <td>1993</td>\n",
       "      <td>NaN</td>\n",
       "      <td>oa</td>\n",
       "      <td>0</td>\n",
       "    </tr>\n",
       "  </tbody>\n",
       "</table>\n",
       "<p>3379 rows × 9 columns</p>\n",
       "</div>"
      ],
      "text/plain": [
       "                                    id  \\\n",
       "0     https://openalex.org/W4384432764   \n",
       "1     https://openalex.org/W4384432829   \n",
       "2     https://openalex.org/W1578642520   \n",
       "3     https://openalex.org/W1590043962   \n",
       "4      https://openalex.org/W210363985   \n",
       "...                                ...   \n",
       "3374  https://openalex.org/W2115655314   \n",
       "3375  https://openalex.org/W2154921451   \n",
       "3376  https://openalex.org/W2162052910   \n",
       "3377  https://openalex.org/W4243393701   \n",
       "3378  https://openalex.org/W4251211576   \n",
       "\n",
       "                                           doi  \\\n",
       "0     https://doi.org/10.1353/seo.2023.a902140   \n",
       "1     https://doi.org/10.1353/seo.2023.a902142   \n",
       "2        https://doi.org/10.1353/seo.2015.0003   \n",
       "3        https://doi.org/10.1353/seo.2013.0023   \n",
       "4        https://doi.org/10.1353/seo.2014.0005   \n",
       "...                                        ...   \n",
       "3374      https://doi.org/10.1353/ks.1992.0016   \n",
       "3375      https://doi.org/10.1353/ks.1992.0014   \n",
       "3376      https://doi.org/10.1353/ks.1992.0007   \n",
       "3377      https://doi.org/10.1353/ks.1993.0020   \n",
       "3378      https://doi.org/10.1353/ks.1993.0009   \n",
       "\n",
       "                              journal origin  \\\n",
       "0     Seoul Journal of Korean Studies     in   \n",
       "1     Seoul Journal of Korean Studies     in   \n",
       "2     Seoul Journal of Korean Studies     in   \n",
       "3     Seoul Journal of Korean Studies     in   \n",
       "4     Seoul Journal of Korean Studies     in   \n",
       "...                               ...    ...   \n",
       "3374                   Korean Studies    out   \n",
       "3375                   Korean Studies    out   \n",
       "3376                   Korean Studies    out   \n",
       "3377                   Korean Studies    out   \n",
       "3378                   Korean Studies    out   \n",
       "\n",
       "                                                  title  publication_year  \\\n",
       "0     Felled Forests and Fallowed Fields: Establishi...              2023   \n",
       "1     The History of the Formation of Silhak in Mode...              2023   \n",
       "2     Diplomatic War: Inter-Korean Relations in the ...              2015   \n",
       "3     More Valuable than Gold: Korean Tungsten and t...              2013   \n",
       "4     Parhae in Historiography and Archaeology: Inte...              2014   \n",
       "...                                                 ...               ...   \n",
       "3374            <i>The Bronze Age in Korea</i> (review)              1992   \n",
       "3375  &lt;i&gt;Korea Old and New: A History&lt;/i&gt...              1992   \n",
       "3376  &lt;i&gt;Alliance Under Tension: The Evolution...              1992   \n",
       "3377                                       Contributors              1993   \n",
       "3378                                     Editor's Note:              1993   \n",
       "\n",
       "                                               abstract oa_kci  cited_by_count  \n",
       "0     Goryeo (918–1392) was a politically and commer...     oa               1  \n",
       "1     This article examines the historical trajector...     oa               1  \n",
       "2     The period of the 1970s was a turning point in...     oa               5  \n",
       "3     A central component of the Japanese government...     oa               5  \n",
       "4     The history of the kingdom of Parhae (Ch. Boha...     oa               5  \n",
       "...                                                 ...    ...             ...  \n",
       "3374  128BOOK REVIEWS rather than philosophy. And if...     oa               0  \n",
       "3375  Book Reviews Korea Old and New: A History, by ...     oa               0  \n",
       "3376  BOOK REVIEWS123 These volumes are more than ju...     oa               0  \n",
       "3377                                                NaN     oa               0  \n",
       "3378                                                NaN     oa               0  \n",
       "\n",
       "[3379 rows x 9 columns]"
      ]
     },
     "execution_count": 42,
     "metadata": {},
     "output_type": "execute_result"
    }
   ],
   "source": [
    "df_filtered"
   ]
  },
  {
   "cell_type": "code",
   "execution_count": 43,
   "metadata": {},
   "outputs": [],
   "source": [
    "kj_2022_2023 = kci_filtered[(kci_filtered['journal'] == 'Korea Journal') & (kci_filtered['publication_year'] >= 2022) & (kci_filtered['publication_year'] <= 2023)]"
   ]
  },
  {
   "cell_type": "code",
   "execution_count": 44,
   "metadata": {},
   "outputs": [],
   "source": [
    "rks_2021_2023 = kci_filtered[(kci_filtered['journal'] == 'The Review of Korean Studies') & (kci_filtered['publication_year'] >= 2021) & (kci_filtered['publication_year'] <= 2023)]"
   ]
  },
  {
   "cell_type": "code",
   "execution_count": 45,
   "metadata": {},
   "outputs": [],
   "source": [
    "df_filtered = pd.concat([df_filtered, kj_2022_2023, rks_2021_2023], ignore_index=True)"
   ]
  },
  {
   "cell_type": "code",
   "execution_count": 46,
   "metadata": {},
   "outputs": [
    {
     "data": {
      "text/html": [
       "<div>\n",
       "<style scoped>\n",
       "    .dataframe tbody tr th:only-of-type {\n",
       "        vertical-align: middle;\n",
       "    }\n",
       "\n",
       "    .dataframe tbody tr th {\n",
       "        vertical-align: top;\n",
       "    }\n",
       "\n",
       "    .dataframe thead th {\n",
       "        text-align: right;\n",
       "    }\n",
       "</style>\n",
       "<table border=\"1\" class=\"dataframe\">\n",
       "  <thead>\n",
       "    <tr style=\"text-align: right;\">\n",
       "      <th></th>\n",
       "      <th>min</th>\n",
       "      <th>max</th>\n",
       "    </tr>\n",
       "    <tr>\n",
       "      <th>journal</th>\n",
       "      <th></th>\n",
       "      <th></th>\n",
       "    </tr>\n",
       "  </thead>\n",
       "  <tbody>\n",
       "    <tr>\n",
       "      <th>Acta Koreana</th>\n",
       "      <td>2000</td>\n",
       "      <td>2023</td>\n",
       "    </tr>\n",
       "    <tr>\n",
       "      <th>European Journal of Korean Studies</th>\n",
       "      <td>2015</td>\n",
       "      <td>2023</td>\n",
       "    </tr>\n",
       "    <tr>\n",
       "      <th>Korea Journal</th>\n",
       "      <td>1961</td>\n",
       "      <td>2023</td>\n",
       "    </tr>\n",
       "    <tr>\n",
       "      <th>Korean Studies</th>\n",
       "      <td>1977</td>\n",
       "      <td>2023</td>\n",
       "    </tr>\n",
       "    <tr>\n",
       "      <th>Seoul Journal of Korean Studies</th>\n",
       "      <td>1988</td>\n",
       "      <td>2023</td>\n",
       "    </tr>\n",
       "    <tr>\n",
       "      <th>The Journal of Korean Studies</th>\n",
       "      <td>1969</td>\n",
       "      <td>2024</td>\n",
       "    </tr>\n",
       "    <tr>\n",
       "      <th>The Review of Korean Studies</th>\n",
       "      <td>1997</td>\n",
       "      <td>2023</td>\n",
       "    </tr>\n",
       "  </tbody>\n",
       "</table>\n",
       "</div>"
      ],
      "text/plain": [
       "                                     min   max\n",
       "journal                                       \n",
       "Acta Koreana                        2000  2023\n",
       "European Journal of Korean Studies  2015  2023\n",
       "Korea Journal                       1961  2023\n",
       "Korean Studies                      1977  2023\n",
       "Seoul Journal of Korean Studies     1988  2023\n",
       "The Journal of Korean Studies       1969  2024\n",
       "The Review of Korean Studies        1997  2023"
      ]
     },
     "execution_count": 46,
     "metadata": {},
     "output_type": "execute_result"
    }
   ],
   "source": [
    "df_filtered.groupby('journal')['publication_year'].agg(['min', 'max'])"
   ]
  },
  {
   "cell_type": "code",
   "execution_count": 47,
   "metadata": {},
   "outputs": [
    {
     "data": {
      "text/html": [
       "<div>\n",
       "<style scoped>\n",
       "    .dataframe tbody tr th:only-of-type {\n",
       "        vertical-align: middle;\n",
       "    }\n",
       "\n",
       "    .dataframe tbody tr th {\n",
       "        vertical-align: top;\n",
       "    }\n",
       "\n",
       "    .dataframe thead th {\n",
       "        text-align: right;\n",
       "    }\n",
       "</style>\n",
       "<table border=\"1\" class=\"dataframe\">\n",
       "  <thead>\n",
       "    <tr style=\"text-align: right;\">\n",
       "      <th></th>\n",
       "      <th>id</th>\n",
       "      <th>doi</th>\n",
       "      <th>journal</th>\n",
       "      <th>origin</th>\n",
       "      <th>title</th>\n",
       "      <th>publication_year</th>\n",
       "      <th>abstract</th>\n",
       "      <th>oa_kci</th>\n",
       "      <th>cited_by_count</th>\n",
       "    </tr>\n",
       "  </thead>\n",
       "  <tbody>\n",
       "    <tr>\n",
       "      <th>0</th>\n",
       "      <td>https://openalex.org/W4384432764</td>\n",
       "      <td>https://doi.org/10.1353/seo.2023.a902140</td>\n",
       "      <td>Seoul Journal of Korean Studies</td>\n",
       "      <td>in</td>\n",
       "      <td>Felled Forests and Fallowed Fields: Establishi...</td>\n",
       "      <td>2023</td>\n",
       "      <td>Goryeo (918–1392) was a politically and commer...</td>\n",
       "      <td>oa</td>\n",
       "      <td>1</td>\n",
       "    </tr>\n",
       "    <tr>\n",
       "      <th>1</th>\n",
       "      <td>https://openalex.org/W4384432829</td>\n",
       "      <td>https://doi.org/10.1353/seo.2023.a902142</td>\n",
       "      <td>Seoul Journal of Korean Studies</td>\n",
       "      <td>in</td>\n",
       "      <td>The History of the Formation of Silhak in Mode...</td>\n",
       "      <td>2023</td>\n",
       "      <td>This article examines the historical trajector...</td>\n",
       "      <td>oa</td>\n",
       "      <td>1</td>\n",
       "    </tr>\n",
       "    <tr>\n",
       "      <th>2</th>\n",
       "      <td>https://openalex.org/W1578642520</td>\n",
       "      <td>https://doi.org/10.1353/seo.2015.0003</td>\n",
       "      <td>Seoul Journal of Korean Studies</td>\n",
       "      <td>in</td>\n",
       "      <td>Diplomatic War: Inter-Korean Relations in the ...</td>\n",
       "      <td>2015</td>\n",
       "      <td>The period of the 1970s was a turning point in...</td>\n",
       "      <td>oa</td>\n",
       "      <td>5</td>\n",
       "    </tr>\n",
       "    <tr>\n",
       "      <th>3</th>\n",
       "      <td>https://openalex.org/W1590043962</td>\n",
       "      <td>https://doi.org/10.1353/seo.2013.0023</td>\n",
       "      <td>Seoul Journal of Korean Studies</td>\n",
       "      <td>in</td>\n",
       "      <td>More Valuable than Gold: Korean Tungsten and t...</td>\n",
       "      <td>2013</td>\n",
       "      <td>A central component of the Japanese government...</td>\n",
       "      <td>oa</td>\n",
       "      <td>5</td>\n",
       "    </tr>\n",
       "    <tr>\n",
       "      <th>4</th>\n",
       "      <td>https://openalex.org/W210363985</td>\n",
       "      <td>https://doi.org/10.1353/seo.2014.0005</td>\n",
       "      <td>Seoul Journal of Korean Studies</td>\n",
       "      <td>in</td>\n",
       "      <td>Parhae in Historiography and Archaeology: Inte...</td>\n",
       "      <td>2014</td>\n",
       "      <td>The history of the kingdom of Parhae (Ch. Boha...</td>\n",
       "      <td>oa</td>\n",
       "      <td>5</td>\n",
       "    </tr>\n",
       "    <tr>\n",
       "      <th>...</th>\n",
       "      <td>...</td>\n",
       "      <td>...</td>\n",
       "      <td>...</td>\n",
       "      <td>...</td>\n",
       "      <td>...</td>\n",
       "      <td>...</td>\n",
       "      <td>...</td>\n",
       "      <td>...</td>\n",
       "      <td>...</td>\n",
       "    </tr>\n",
       "    <tr>\n",
       "      <th>2892</th>\n",
       "      <td>ART002721077</td>\n",
       "      <td>https://doi.org/10.25024/review.2021.24.1.009</td>\n",
       "      <td>The Review of Korean Studies</td>\n",
       "      <td>in</td>\n",
       "      <td>The Haunted Maiden Deities on Jeju Island</td>\n",
       "      <td>2021</td>\n",
       "      <td>Jeju Island reveals exemplary openness to ghos...</td>\n",
       "      <td>kci</td>\n",
       "      <td>&lt;NA&gt;</td>\n",
       "    </tr>\n",
       "    <tr>\n",
       "      <th>2893</th>\n",
       "      <td>ART002721082</td>\n",
       "      <td>https://doi.org/10.25024/review.2021.24.1.010</td>\n",
       "      <td>The Review of Korean Studies</td>\n",
       "      <td>in</td>\n",
       "      <td>A Study on Trauma Aspects in Cho Se-Hee’s Nove...</td>\n",
       "      <td>2021</td>\n",
       "      <td>The aim of this paper is to study the problems...</td>\n",
       "      <td>kci</td>\n",
       "      <td>&lt;NA&gt;</td>\n",
       "    </tr>\n",
       "    <tr>\n",
       "      <th>2894</th>\n",
       "      <td>ART002721086</td>\n",
       "      <td>https://doi.org/10.25024/review.2021.24.1.012</td>\n",
       "      <td>The Review of Korean Studies</td>\n",
       "      <td>in</td>\n",
       "      <td>A Chinese Scholar’s View on the Costume of Gog...</td>\n",
       "      <td>2021</td>\n",
       "      <td>NaN</td>\n",
       "      <td>kci</td>\n",
       "      <td>&lt;NA&gt;</td>\n",
       "    </tr>\n",
       "    <tr>\n",
       "      <th>2895</th>\n",
       "      <td>ART002721085</td>\n",
       "      <td>https://doi.org/10.25024/review.2021.24.1.011</td>\n",
       "      <td>The Review of Korean Studies</td>\n",
       "      <td>in</td>\n",
       "      <td>Current Status of Korean Studies in China</td>\n",
       "      <td>2021</td>\n",
       "      <td>NaN</td>\n",
       "      <td>kci</td>\n",
       "      <td>&lt;NA&gt;</td>\n",
       "    </tr>\n",
       "    <tr>\n",
       "      <th>2896</th>\n",
       "      <td>ART002721099</td>\n",
       "      <td>https://doi.org/10.25024/review.2021.24.1.015</td>\n",
       "      <td>The Review of Korean Studies</td>\n",
       "      <td>in</td>\n",
       "      <td>A Review of Marginal Man’s Notebook of the His...</td>\n",
       "      <td>2021</td>\n",
       "      <td>NaN</td>\n",
       "      <td>kci</td>\n",
       "      <td>&lt;NA&gt;</td>\n",
       "    </tr>\n",
       "  </tbody>\n",
       "</table>\n",
       "<p>2897 rows × 9 columns</p>\n",
       "</div>"
      ],
      "text/plain": [
       "                                    id  \\\n",
       "0     https://openalex.org/W4384432764   \n",
       "1     https://openalex.org/W4384432829   \n",
       "2     https://openalex.org/W1578642520   \n",
       "3     https://openalex.org/W1590043962   \n",
       "4      https://openalex.org/W210363985   \n",
       "...                                ...   \n",
       "2892                      ART002721077   \n",
       "2893                      ART002721082   \n",
       "2894                      ART002721086   \n",
       "2895                      ART002721085   \n",
       "2896                      ART002721099   \n",
       "\n",
       "                                                doi  \\\n",
       "0          https://doi.org/10.1353/seo.2023.a902140   \n",
       "1          https://doi.org/10.1353/seo.2023.a902142   \n",
       "2             https://doi.org/10.1353/seo.2015.0003   \n",
       "3             https://doi.org/10.1353/seo.2013.0023   \n",
       "4             https://doi.org/10.1353/seo.2014.0005   \n",
       "...                                             ...   \n",
       "2892  https://doi.org/10.25024/review.2021.24.1.009   \n",
       "2893  https://doi.org/10.25024/review.2021.24.1.010   \n",
       "2894  https://doi.org/10.25024/review.2021.24.1.012   \n",
       "2895  https://doi.org/10.25024/review.2021.24.1.011   \n",
       "2896  https://doi.org/10.25024/review.2021.24.1.015   \n",
       "\n",
       "                              journal origin  \\\n",
       "0     Seoul Journal of Korean Studies     in   \n",
       "1     Seoul Journal of Korean Studies     in   \n",
       "2     Seoul Journal of Korean Studies     in   \n",
       "3     Seoul Journal of Korean Studies     in   \n",
       "4     Seoul Journal of Korean Studies     in   \n",
       "...                               ...    ...   \n",
       "2892     The Review of Korean Studies     in   \n",
       "2893     The Review of Korean Studies     in   \n",
       "2894     The Review of Korean Studies     in   \n",
       "2895     The Review of Korean Studies     in   \n",
       "2896     The Review of Korean Studies     in   \n",
       "\n",
       "                                                  title  publication_year  \\\n",
       "0     Felled Forests and Fallowed Fields: Establishi...              2023   \n",
       "1     The History of the Formation of Silhak in Mode...              2023   \n",
       "2     Diplomatic War: Inter-Korean Relations in the ...              2015   \n",
       "3     More Valuable than Gold: Korean Tungsten and t...              2013   \n",
       "4     Parhae in Historiography and Archaeology: Inte...              2014   \n",
       "...                                                 ...               ...   \n",
       "2892          The Haunted Maiden Deities on Jeju Island              2021   \n",
       "2893  A Study on Trauma Aspects in Cho Se-Hee’s Nove...              2021   \n",
       "2894  A Chinese Scholar’s View on the Costume of Gog...              2021   \n",
       "2895          Current Status of Korean Studies in China              2021   \n",
       "2896  A Review of Marginal Man’s Notebook of the His...              2021   \n",
       "\n",
       "                                               abstract oa_kci cited_by_count  \n",
       "0     Goryeo (918–1392) was a politically and commer...     oa              1  \n",
       "1     This article examines the historical trajector...     oa              1  \n",
       "2     The period of the 1970s was a turning point in...     oa              5  \n",
       "3     A central component of the Japanese government...     oa              5  \n",
       "4     The history of the kingdom of Parhae (Ch. Boha...     oa              5  \n",
       "...                                                 ...    ...            ...  \n",
       "2892  Jeju Island reveals exemplary openness to ghos...    kci           <NA>  \n",
       "2893  The aim of this paper is to study the problems...    kci           <NA>  \n",
       "2894                                                NaN    kci           <NA>  \n",
       "2895                                                NaN    kci           <NA>  \n",
       "2896                                                NaN    kci           <NA>  \n",
       "\n",
       "[2897 rows x 9 columns]"
      ]
     },
     "execution_count": 47,
     "metadata": {},
     "output_type": "execute_result"
    }
   ],
   "source": [
    "df_filtered = df_filtered[(df_filtered['publication_year']>=2000)&(df_filtered['publication_year']<=2023)].reset_index(drop=True)\n",
    "df_filtered"
   ]
  },
  {
   "cell_type": "code",
   "execution_count": 48,
   "metadata": {},
   "outputs": [
    {
     "data": {
      "text/plain": [
       "690"
      ]
     },
     "execution_count": 48,
     "metadata": {},
     "output_type": "execute_result"
    }
   ],
   "source": [
    "len(df_filtered[pd.isna(df_filtered['abstract'])])"
   ]
  },
  {
   "cell_type": "code",
   "execution_count": 49,
   "metadata": {},
   "outputs": [],
   "source": [
    "df_filtered.loc[df_filtered['abstract'].isnull(), 'abstract'] = df_filtered.loc[df_filtered['abstract'].isnull(), 'doi'].map(kci_filtered.set_index('doi').reset_index()['abstract'])"
   ]
  },
  {
   "cell_type": "code",
   "execution_count": 50,
   "metadata": {},
   "outputs": [],
   "source": [
    "# df_filtered.loc[df_filtered['abstract'].isnull(), 'abstract'] = df_filtered.loc[df_filtered['abstract'].isnull()].apply(lambda row: kci_filtered[kci_filtered['title'].str.lower() == row['title'].lower()]['abstract'].values[0] if not kci_filtered[kci_filtered['title'].str.lower() == row['title'].lower()].empty else row['abstract'], axis=1)\n",
    "df_filtered.loc[df_filtered['abstract'].isnull(), 'abstract'] = df_filtered.loc[df_filtered['abstract'].isnull()].apply(\n",
    "    lambda row: kci_filtered[kci_filtered['title'].str.lower().str.strip() == row['title'].lower().strip()]['abstract'].values[0]\n",
    "    if not kci_filtered[kci_filtered['title'].str.lower().str.strip() == row['title'].lower().strip()].empty else row['abstract'], axis=1)"
   ]
  },
  {
   "cell_type": "code",
   "execution_count": 51,
   "metadata": {},
   "outputs": [],
   "source": [
    "df_filtered.loc[df_filtered['abstract'] == '.', 'abstract'] = pd.NA"
   ]
  },
  {
   "cell_type": "code",
   "execution_count": 52,
   "metadata": {},
   "outputs": [],
   "source": [
    "# book review는 초록이 없는게 맞음. 따라서 지워야함.\n",
    "# abstract 열에서 Book Review로 시작하면 pd.NA 처리\n",
    "df_filtered.loc[df_filtered['abstract'].str.contains(r'Book Review.*', regex=True, na=False), 'abstract'] = pd.NA\n",
    "df_filtered.loc[df_filtered['abstract'].str.contains(r'Reviewed by.*', regex=True, na=False), 'abstract'] = pd.NA\n",
    "df_filtered.loc[df_filtered['title'].str.contains(r'\\[Book Review.*', regex=True, na=False), 'abstract'] = pd.NA\n",
    "df_filtered.loc[df_filtered['title'].str.contains(r'\\[book review.*', regex=True, na=False), 'abstract'] = pd.NA\n",
    "df_filtered.loc[df_filtered['title'].str.contains(r'\\[On This Topic.*', regex=True, na=False), 'abstract'] = pd.NA"
   ]
  },
  {
   "cell_type": "code",
   "execution_count": 53,
   "metadata": {},
   "outputs": [],
   "source": [
    "df_filtered['abstract'] = df_filtered['abstract'].str.replace('^Abstract', '', regex=True)"
   ]
  },
  {
   "cell_type": "code",
   "execution_count": 54,
   "metadata": {},
   "outputs": [
    {
     "data": {
      "text/plain": [
       "914"
      ]
     },
     "execution_count": 54,
     "metadata": {},
     "output_type": "execute_result"
    }
   ],
   "source": [
    "len(df_filtered[pd.isna(df_filtered['abstract'])])"
   ]
  },
  {
   "cell_type": "code",
   "execution_count": 183,
   "metadata": {},
   "outputs": [
    {
     "data": {
      "text/html": [
       "<div>\n",
       "<style scoped>\n",
       "    .dataframe tbody tr th:only-of-type {\n",
       "        vertical-align: middle;\n",
       "    }\n",
       "\n",
       "    .dataframe tbody tr th {\n",
       "        vertical-align: top;\n",
       "    }\n",
       "\n",
       "    .dataframe thead th {\n",
       "        text-align: right;\n",
       "    }\n",
       "</style>\n",
       "<table border=\"1\" class=\"dataframe\">\n",
       "  <thead>\n",
       "    <tr style=\"text-align: right;\">\n",
       "      <th>abstract</th>\n",
       "      <th>False</th>\n",
       "      <th>True</th>\n",
       "    </tr>\n",
       "    <tr>\n",
       "      <th>oa_kci</th>\n",
       "      <th></th>\n",
       "      <th></th>\n",
       "    </tr>\n",
       "  </thead>\n",
       "  <tbody>\n",
       "    <tr>\n",
       "      <th>kci</th>\n",
       "      <td>109</td>\n",
       "      <td>57</td>\n",
       "    </tr>\n",
       "    <tr>\n",
       "      <th>oa</th>\n",
       "      <td>1873</td>\n",
       "      <td>858</td>\n",
       "    </tr>\n",
       "  </tbody>\n",
       "</table>\n",
       "</div>"
      ],
      "text/plain": [
       "abstract  False  True \n",
       "oa_kci                \n",
       "kci         109     57\n",
       "oa         1873    858"
      ]
     },
     "execution_count": 183,
     "metadata": {},
     "output_type": "execute_result"
    }
   ],
   "source": [
    "pd.crosstab(df_filtered['oa_kci'], df_filtered['abstract'].isna())"
   ]
  },
  {
   "cell_type": "code",
   "execution_count": 55,
   "metadata": {},
   "outputs": [
    {
     "data": {
      "text/html": [
       "<div>\n",
       "<style scoped>\n",
       "    .dataframe tbody tr th:only-of-type {\n",
       "        vertical-align: middle;\n",
       "    }\n",
       "\n",
       "    .dataframe tbody tr th {\n",
       "        vertical-align: top;\n",
       "    }\n",
       "\n",
       "    .dataframe thead th {\n",
       "        text-align: right;\n",
       "    }\n",
       "</style>\n",
       "<table border=\"1\" class=\"dataframe\">\n",
       "  <thead>\n",
       "    <tr style=\"text-align: right;\">\n",
       "      <th>abstract</th>\n",
       "      <th>False</th>\n",
       "      <th>True</th>\n",
       "    </tr>\n",
       "    <tr>\n",
       "      <th>oa_kci</th>\n",
       "      <th></th>\n",
       "      <th></th>\n",
       "    </tr>\n",
       "  </thead>\n",
       "  <tbody>\n",
       "    <tr>\n",
       "      <th>kci</th>\n",
       "      <td>109</td>\n",
       "      <td>57</td>\n",
       "    </tr>\n",
       "    <tr>\n",
       "      <th>oa</th>\n",
       "      <td>1874</td>\n",
       "      <td>857</td>\n",
       "    </tr>\n",
       "  </tbody>\n",
       "</table>\n",
       "</div>"
      ],
      "text/plain": [
       "abstract  False  True \n",
       "oa_kci                \n",
       "kci         109     57\n",
       "oa         1874    857"
      ]
     },
     "execution_count": 55,
     "metadata": {},
     "output_type": "execute_result"
    }
   ],
   "source": [
    "pd.crosstab(df_filtered['oa_kci'], df_filtered['abstract'].isna())\n"
   ]
  },
  {
   "cell_type": "code",
   "execution_count": 56,
   "metadata": {},
   "outputs": [],
   "source": [
    "df_filtered.to_pickle('./240407_KS_KCI_merged.pkl')"
   ]
  }
 ],
 "metadata": {
  "kernelspec": {
   "display_name": "python311",
   "language": "python",
   "name": "python3"
  },
  "language_info": {
   "codemirror_mode": {
    "name": "ipython",
    "version": 3
   },
   "file_extension": ".py",
   "mimetype": "text/x-python",
   "name": "python",
   "nbconvert_exporter": "python",
   "pygments_lexer": "ipython3",
   "version": "3.11.6"
  }
 },
 "nbformat": 4,
 "nbformat_minor": 2
}
