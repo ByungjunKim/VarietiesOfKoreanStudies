{
 "cells": [
  {
   "cell_type": "markdown",
   "metadata": {},
   "source": [
    "# 한국학 저널(OpenAlex) 토크나이징"
   ]
  },
  {
   "cell_type": "code",
   "execution_count": 102,
   "metadata": {},
   "outputs": [],
   "source": [
    "import pandas as pd\n",
    "import numpy as np\n",
    "import spacy\n",
    "spacy.prefer_gpu(1)\n",
    "nlp = spacy.load('en_core_web_trf', disable=['parser', 'ner'])\n",
    "from tqdm.auto import tqdm\n",
    "tqdm.pandas()\n",
    "from nltk.corpus import stopwords\n",
    "\n",
    "# Gensim\n",
    "import gensim\n",
    "import gensim.corpora as corpora\n",
    "from gensim import corpora, models\n",
    "from gensim.utils import simple_preprocess\n",
    "from collections import Counter\n",
    "import re\n",
    "from ast import literal_eval"
   ]
  },
  {
   "cell_type": "code",
   "execution_count": 103,
   "metadata": {},
   "outputs": [
    {
     "data": {
      "text/html": [
       "<div>\n",
       "<style scoped>\n",
       "    .dataframe tbody tr th:only-of-type {\n",
       "        vertical-align: middle;\n",
       "    }\n",
       "\n",
       "    .dataframe tbody tr th {\n",
       "        vertical-align: top;\n",
       "    }\n",
       "\n",
       "    .dataframe thead th {\n",
       "        text-align: right;\n",
       "    }\n",
       "</style>\n",
       "<table border=\"1\" class=\"dataframe\">\n",
       "  <thead>\n",
       "    <tr style=\"text-align: right;\">\n",
       "      <th></th>\n",
       "      <th>id</th>\n",
       "      <th>doi</th>\n",
       "      <th>journal</th>\n",
       "      <th>origin</th>\n",
       "      <th>title</th>\n",
       "      <th>publication_year</th>\n",
       "      <th>abstract</th>\n",
       "      <th>oa_kci</th>\n",
       "      <th>cited_by_count</th>\n",
       "    </tr>\n",
       "  </thead>\n",
       "  <tbody>\n",
       "    <tr>\n",
       "      <th>0</th>\n",
       "      <td>https://openalex.org/W4384432764</td>\n",
       "      <td>https://doi.org/10.1353/seo.2023.a902140</td>\n",
       "      <td>Seoul Journal of Korean Studies</td>\n",
       "      <td>in</td>\n",
       "      <td>Felled Forests and Fallowed Fields: Establishi...</td>\n",
       "      <td>2023</td>\n",
       "      <td>Goryeo (918–1392) was a politically and commer...</td>\n",
       "      <td>oa</td>\n",
       "      <td>1</td>\n",
       "    </tr>\n",
       "    <tr>\n",
       "      <th>1</th>\n",
       "      <td>https://openalex.org/W4384432829</td>\n",
       "      <td>https://doi.org/10.1353/seo.2023.a902142</td>\n",
       "      <td>Seoul Journal of Korean Studies</td>\n",
       "      <td>in</td>\n",
       "      <td>The History of the Formation of Silhak in Mode...</td>\n",
       "      <td>2023</td>\n",
       "      <td>This article examines the historical trajector...</td>\n",
       "      <td>oa</td>\n",
       "      <td>1</td>\n",
       "    </tr>\n",
       "    <tr>\n",
       "      <th>2</th>\n",
       "      <td>https://openalex.org/W1578642520</td>\n",
       "      <td>https://doi.org/10.1353/seo.2015.0003</td>\n",
       "      <td>Seoul Journal of Korean Studies</td>\n",
       "      <td>in</td>\n",
       "      <td>Diplomatic War: Inter-Korean Relations in the ...</td>\n",
       "      <td>2015</td>\n",
       "      <td>The period of the 1970s was a turning point in...</td>\n",
       "      <td>oa</td>\n",
       "      <td>5</td>\n",
       "    </tr>\n",
       "    <tr>\n",
       "      <th>3</th>\n",
       "      <td>https://openalex.org/W1590043962</td>\n",
       "      <td>https://doi.org/10.1353/seo.2013.0023</td>\n",
       "      <td>Seoul Journal of Korean Studies</td>\n",
       "      <td>in</td>\n",
       "      <td>More Valuable than Gold: Korean Tungsten and t...</td>\n",
       "      <td>2013</td>\n",
       "      <td>A central component of the Japanese government...</td>\n",
       "      <td>oa</td>\n",
       "      <td>5</td>\n",
       "    </tr>\n",
       "    <tr>\n",
       "      <th>4</th>\n",
       "      <td>https://openalex.org/W210363985</td>\n",
       "      <td>https://doi.org/10.1353/seo.2014.0005</td>\n",
       "      <td>Seoul Journal of Korean Studies</td>\n",
       "      <td>in</td>\n",
       "      <td>Parhae in Historiography and Archaeology: Inte...</td>\n",
       "      <td>2014</td>\n",
       "      <td>The history of the kingdom of Parhae (Ch. Boha...</td>\n",
       "      <td>oa</td>\n",
       "      <td>5</td>\n",
       "    </tr>\n",
       "    <tr>\n",
       "      <th>...</th>\n",
       "      <td>...</td>\n",
       "      <td>...</td>\n",
       "      <td>...</td>\n",
       "      <td>...</td>\n",
       "      <td>...</td>\n",
       "      <td>...</td>\n",
       "      <td>...</td>\n",
       "      <td>...</td>\n",
       "      <td>...</td>\n",
       "    </tr>\n",
       "    <tr>\n",
       "      <th>2892</th>\n",
       "      <td>ART002721077</td>\n",
       "      <td>https://doi.org/10.25024/review.2021.24.1.009</td>\n",
       "      <td>The Review of Korean Studies</td>\n",
       "      <td>in</td>\n",
       "      <td>The Haunted Maiden Deities on Jeju Island</td>\n",
       "      <td>2021</td>\n",
       "      <td>Jeju Island reveals exemplary openness to ghos...</td>\n",
       "      <td>kci</td>\n",
       "      <td>&lt;NA&gt;</td>\n",
       "    </tr>\n",
       "    <tr>\n",
       "      <th>2893</th>\n",
       "      <td>ART002721082</td>\n",
       "      <td>https://doi.org/10.25024/review.2021.24.1.010</td>\n",
       "      <td>The Review of Korean Studies</td>\n",
       "      <td>in</td>\n",
       "      <td>A Study on Trauma Aspects in Cho Se-Hee’s Nove...</td>\n",
       "      <td>2021</td>\n",
       "      <td>The aim of this paper is to study the problems...</td>\n",
       "      <td>kci</td>\n",
       "      <td>&lt;NA&gt;</td>\n",
       "    </tr>\n",
       "    <tr>\n",
       "      <th>2894</th>\n",
       "      <td>ART002721086</td>\n",
       "      <td>https://doi.org/10.25024/review.2021.24.1.012</td>\n",
       "      <td>The Review of Korean Studies</td>\n",
       "      <td>in</td>\n",
       "      <td>A Chinese Scholar’s View on the Costume of Gog...</td>\n",
       "      <td>2021</td>\n",
       "      <td>NaN</td>\n",
       "      <td>kci</td>\n",
       "      <td>&lt;NA&gt;</td>\n",
       "    </tr>\n",
       "    <tr>\n",
       "      <th>2895</th>\n",
       "      <td>ART002721085</td>\n",
       "      <td>https://doi.org/10.25024/review.2021.24.1.011</td>\n",
       "      <td>The Review of Korean Studies</td>\n",
       "      <td>in</td>\n",
       "      <td>Current Status of Korean Studies in China</td>\n",
       "      <td>2021</td>\n",
       "      <td>NaN</td>\n",
       "      <td>kci</td>\n",
       "      <td>&lt;NA&gt;</td>\n",
       "    </tr>\n",
       "    <tr>\n",
       "      <th>2896</th>\n",
       "      <td>ART002721099</td>\n",
       "      <td>https://doi.org/10.25024/review.2021.24.1.015</td>\n",
       "      <td>The Review of Korean Studies</td>\n",
       "      <td>in</td>\n",
       "      <td>A Review of Marginal Man’s Notebook of the His...</td>\n",
       "      <td>2021</td>\n",
       "      <td>NaN</td>\n",
       "      <td>kci</td>\n",
       "      <td>&lt;NA&gt;</td>\n",
       "    </tr>\n",
       "  </tbody>\n",
       "</table>\n",
       "<p>2897 rows × 9 columns</p>\n",
       "</div>"
      ],
      "text/plain": [
       "                                    id  \\\n",
       "0     https://openalex.org/W4384432764   \n",
       "1     https://openalex.org/W4384432829   \n",
       "2     https://openalex.org/W1578642520   \n",
       "3     https://openalex.org/W1590043962   \n",
       "4      https://openalex.org/W210363985   \n",
       "...                                ...   \n",
       "2892                      ART002721077   \n",
       "2893                      ART002721082   \n",
       "2894                      ART002721086   \n",
       "2895                      ART002721085   \n",
       "2896                      ART002721099   \n",
       "\n",
       "                                                doi  \\\n",
       "0          https://doi.org/10.1353/seo.2023.a902140   \n",
       "1          https://doi.org/10.1353/seo.2023.a902142   \n",
       "2             https://doi.org/10.1353/seo.2015.0003   \n",
       "3             https://doi.org/10.1353/seo.2013.0023   \n",
       "4             https://doi.org/10.1353/seo.2014.0005   \n",
       "...                                             ...   \n",
       "2892  https://doi.org/10.25024/review.2021.24.1.009   \n",
       "2893  https://doi.org/10.25024/review.2021.24.1.010   \n",
       "2894  https://doi.org/10.25024/review.2021.24.1.012   \n",
       "2895  https://doi.org/10.25024/review.2021.24.1.011   \n",
       "2896  https://doi.org/10.25024/review.2021.24.1.015   \n",
       "\n",
       "                              journal origin  \\\n",
       "0     Seoul Journal of Korean Studies     in   \n",
       "1     Seoul Journal of Korean Studies     in   \n",
       "2     Seoul Journal of Korean Studies     in   \n",
       "3     Seoul Journal of Korean Studies     in   \n",
       "4     Seoul Journal of Korean Studies     in   \n",
       "...                               ...    ...   \n",
       "2892     The Review of Korean Studies     in   \n",
       "2893     The Review of Korean Studies     in   \n",
       "2894     The Review of Korean Studies     in   \n",
       "2895     The Review of Korean Studies     in   \n",
       "2896     The Review of Korean Studies     in   \n",
       "\n",
       "                                                  title  publication_year  \\\n",
       "0     Felled Forests and Fallowed Fields: Establishi...              2023   \n",
       "1     The History of the Formation of Silhak in Mode...              2023   \n",
       "2     Diplomatic War: Inter-Korean Relations in the ...              2015   \n",
       "3     More Valuable than Gold: Korean Tungsten and t...              2013   \n",
       "4     Parhae in Historiography and Archaeology: Inte...              2014   \n",
       "...                                                 ...               ...   \n",
       "2892          The Haunted Maiden Deities on Jeju Island              2021   \n",
       "2893  A Study on Trauma Aspects in Cho Se-Hee’s Nove...              2021   \n",
       "2894  A Chinese Scholar’s View on the Costume of Gog...              2021   \n",
       "2895          Current Status of Korean Studies in China              2021   \n",
       "2896  A Review of Marginal Man’s Notebook of the His...              2021   \n",
       "\n",
       "                                               abstract oa_kci cited_by_count  \n",
       "0     Goryeo (918–1392) was a politically and commer...     oa              1  \n",
       "1     This article examines the historical trajector...     oa              1  \n",
       "2     The period of the 1970s was a turning point in...     oa              5  \n",
       "3     A central component of the Japanese government...     oa              5  \n",
       "4     The history of the kingdom of Parhae (Ch. Boha...     oa              5  \n",
       "...                                                 ...    ...            ...  \n",
       "2892  Jeju Island reveals exemplary openness to ghos...    kci           <NA>  \n",
       "2893  The aim of this paper is to study the problems...    kci           <NA>  \n",
       "2894                                                NaN    kci           <NA>  \n",
       "2895                                                NaN    kci           <NA>  \n",
       "2896                                                NaN    kci           <NA>  \n",
       "\n",
       "[2897 rows x 9 columns]"
      ]
     },
     "execution_count": 103,
     "metadata": {},
     "output_type": "execute_result"
    }
   ],
   "source": [
    "df = pd.read_pickle('./240407_KS_KCI_merged.pkl')\n",
    "df"
   ]
  },
  {
   "cell_type": "code",
   "execution_count": 106,
   "metadata": {},
   "outputs": [
    {
     "name": "stderr",
     "output_type": "stream",
     "text": [
      "/tmp/ipykernel_1708977/1448256736.py:1: FutureWarning: Downcasting object dtype arrays on .fillna, .ffill, .bfill is deprecated and will change in a future version. Call result.infer_objects(copy=False) instead. To opt-in to the future behavior, set `pd.set_option('future.no_silent_downcasting', True)`\n",
      "  df['cited_by_count'].fillna(0).describe()\n"
     ]
    },
    {
     "data": {
      "text/plain": [
       "count    2897.000000\n",
       "mean        1.572661\n",
       "std         5.372484\n",
       "min         0.000000\n",
       "25%         0.000000\n",
       "50%         0.000000\n",
       "75%         1.000000\n",
       "max        93.000000\n",
       "Name: cited_by_count, dtype: float64"
      ]
     },
     "execution_count": 106,
     "metadata": {},
     "output_type": "execute_result"
    }
   ],
   "source": [
    "df['cited_by_count'].fillna(0).describe()"
   ]
  },
  {
   "cell_type": "code",
   "execution_count": 107,
   "metadata": {},
   "outputs": [
    {
     "data": {
      "text/plain": [
       "journal\n",
       "Acta Koreana                           8.904110\n",
       "European Journal of Korean Studies     0.980392\n",
       "Korea Journal                         19.494585\n",
       "Korean Studies                        50.934579\n",
       "Seoul Journal of Korean Studies       29.943503\n",
       "The Journal of Korean Studies         39.439655\n",
       "The Review of Korean Studies          38.691323\n",
       "Name: abstract, dtype: float64"
      ]
     },
     "execution_count": 107,
     "metadata": {},
     "output_type": "execute_result"
    }
   ],
   "source": [
    "journal_empty_abstract_percent = df.groupby('journal')['abstract'].apply(lambda x: x.isnull().mean() * 100)\n",
    "journal_empty_abstract_percent"
   ]
  },
  {
   "cell_type": "code",
   "execution_count": 108,
   "metadata": {},
   "outputs": [],
   "source": [
    "stop_words = stopwords.words('english')\n",
    "stop_words.extend(['-','abstract','review','book'])"
   ]
  },
  {
   "cell_type": "code",
   "execution_count": 109,
   "metadata": {},
   "outputs": [],
   "source": [
    "def lemmatization(texts, allowed_postags): #https://spacy.io/api/annotation#\n",
    "        texts_out = []\n",
    "        print('lemmatization 시작 \\n')\n",
    "        for sent in tqdm(texts):\n",
    "                if sent!=None:\n",
    "                        doc = nlp(sent)\n",
    "                        if allowed_postags != None:\n",
    "                                texts_out.append([token.lemma_ for token in doc if token.pos_ in allowed_postags])\n",
    "                        else:\n",
    "                                texts_out.append([token.lemma_ for token in doc])\n",
    "                else:\n",
    "                        texts_out.append(None)\n",
    "        return texts_out\n",
    "\n",
    "# Define functions for stopwords, bigrams, trigrams and lemmatization\n",
    "def remove_stopwords(texts):\n",
    "        return [[word for word in simple_preprocess(str(doc)) if word not in stop_words] for doc in texts]\n",
    "        # return [[word for word in doc if word not in stop_words] for doc in texts]\n",
    "\n",
    "def make_bigram(data_words,bigram_min_count):\n",
    "        bigram = gensim.models.Phrases(data_words, min_count=bigram_min_count)\n",
    "        bigram_mod = gensim.models.phrases.Phraser(bigram)\n",
    "        # bigram으로 만들기\n",
    "        data_words_bigrams = [bigram_mod[doc] for doc in remove_stopwords(data_words)] # 불용어 1차 제거 후에 bigram\n",
    "        # data_lemmatized = remove_stopwords(lemmatization(data_words_bigrams,allowed_postags=['NOUN','PROPN','ADJ','ADV','VERB'])) #lemm 이후 불용어 추가 제거\n",
    "        return data_words_bigrams"
   ]
  },
  {
   "cell_type": "code",
   "execution_count": 110,
   "metadata": {},
   "outputs": [
    {
     "name": "stdout",
     "output_type": "stream",
     "text": [
      "lemmatization 시작 \n",
      "\n"
     ]
    },
    {
     "data": {
      "application/vnd.jupyter.widget-view+json": {
       "model_id": "b186400154bb4e4b8e7a4335034984c1",
       "version_major": 2,
       "version_minor": 0
      },
      "text/plain": [
       "  0%|          | 0/2897 [00:00<?, ?it/s]"
      ]
     },
     "metadata": {},
     "output_type": "display_data"
    }
   ],
   "source": [
    "title_lemmatized = lemmatization(df['title'].str.lower().tolist(),['NOUN','PROPN','ADJ','VERB']) # 명사, 대명사, 형용사 활용"
   ]
  },
  {
   "cell_type": "code",
   "execution_count": 111,
   "metadata": {},
   "outputs": [],
   "source": [
    "df['title_tokens'] = pd.Series(title_lemmatized)"
   ]
  },
  {
   "cell_type": "code",
   "execution_count": 112,
   "metadata": {},
   "outputs": [
    {
     "data": {
      "image/png": "[encoded data removed]",
      "text/plain": [
       "<Figure size 1000x600 with 1 Axes>"
      ]
     },
     "metadata": {},
     "output_type": "display_data"
    },
    {
     "data": {
      "text/plain": [
       "title_tokens\n",
       "0      87.500000\n",
       "1      87.804878\n",
       "2      46.969697\n",
       "3      57.142857\n",
       "4      48.148148\n",
       "5      33.165829\n",
       "6      28.571429\n",
       "7      26.344086\n",
       "8      25.063291\n",
       "9      22.121212\n",
       "10     26.394052\n",
       "11     27.272727\n",
       "12     18.292683\n",
       "13     26.506024\n",
       "14     21.538462\n",
       "15     30.357143\n",
       "16     43.902439\n",
       "17     61.538462\n",
       "18     82.352941\n",
       "19     66.666667\n",
       "20     75.000000\n",
       "21     83.333333\n",
       "22     42.857143\n",
       "23    100.000000\n",
       "24    100.000000\n",
       "25    100.000000\n",
       "26    100.000000\n",
       "27      0.000000\n",
       "28    100.000000\n",
       "29    100.000000\n",
       "30    100.000000\n",
       "31    100.000000\n",
       "34    100.000000\n",
       "35    100.000000\n",
       "37    100.000000\n",
       "40    100.000000\n",
       "48    100.000000\n",
       "53    100.000000\n",
       "Name: abstract, dtype: float64"
      ]
     },
     "execution_count": 112,
     "metadata": {},
     "output_type": "execute_result"
    }
   ],
   "source": [
    "import matplotlib.pyplot as plt\n",
    "\n",
    "# Calculate the percentage of missing values in abstract column for each title_tokens length\n",
    "missing_values_percent = df.groupby(df['title_tokens'].str.len())['abstract'].apply(lambda x: x.isnull().mean() * 100)\n",
    "\n",
    "# Plot the distribution of missing values\n",
    "plt.figure(figsize=(10, 6))\n",
    "plt.bar(missing_values_percent.index, missing_values_percent.values)\n",
    "plt.xlabel('Length of title_tokens')\n",
    "plt.ylabel('Percentage of missing values in abstract')\n",
    "plt.title('Distribution of missing values in abstract by title_tokens length')\n",
    "plt.show()\n",
    "df.groupby(df['title_tokens'].str.len())['abstract'].apply(lambda x: x.isnull().mean() * 100)\n"
   ]
  },
  {
   "cell_type": "code",
   "execution_count": 113,
   "metadata": {},
   "outputs": [],
   "source": [
    "# df = df[(df['title_tokens'].str.len()>=3)&(df['title_tokens'].str.len()<=25)].reset_index(drop=True) # 토큰수 3~25개 사이만 남김\n",
    "df.loc[(df['title_tokens'].str.len()<3)|(df['title_tokens'].str.len()>25),'abstract'] = pd.NA"
   ]
  },
  {
   "cell_type": "code",
   "execution_count": 114,
   "metadata": {},
   "outputs": [
    {
     "data": {
      "text/plain": [
       "journal\n",
       "The Review of Korean Studies          703\n",
       "Korea Journal                         554\n",
       "The Journal of Korean Studies         464\n",
       "Korean Studies                        428\n",
       "Seoul Journal of Korean Studies       354\n",
       "Acta Koreana                          292\n",
       "European Journal of Korean Studies    102\n",
       "Name: count, dtype: int64"
      ]
     },
     "execution_count": 114,
     "metadata": {},
     "output_type": "execute_result"
    }
   ],
   "source": [
    "df['journal'].value_counts()"
   ]
  },
  {
   "cell_type": "code",
   "execution_count": 115,
   "metadata": {},
   "outputs": [
    {
     "data": {
      "text/plain": [
       "origin\n",
       "in     1903\n",
       "out     994\n",
       "Name: count, dtype: int64"
      ]
     },
     "execution_count": 115,
     "metadata": {},
     "output_type": "execute_result"
    }
   ],
   "source": [
    "df['origin'].value_counts()"
   ]
  },
  {
   "cell_type": "code",
   "execution_count": 116,
   "metadata": {},
   "outputs": [
    {
     "name": "stdout",
     "output_type": "stream",
     "text": [
      "lemmatization 시작 \n",
      "\n"
     ]
    },
    {
     "data": {
      "application/vnd.jupyter.widget-view+json": {
       "model_id": "07e02105d705431f9790930833b30361",
       "version_major": 2,
       "version_minor": 0
      },
      "text/plain": [
       "  0%|          | 0/2897 [00:00<?, ?it/s]"
      ]
     },
     "metadata": {},
     "output_type": "display_data"
    }
   ],
   "source": [
    "abstract_lemmatized = lemmatization(df['abstract'].apply(lambda x: x.lower() if isinstance(x, str) else None).tolist(),['NOUN','PROPN','ADJ','VERB']) # 명사, 대명사, 형용사 활용"
   ]
  },
  {
   "cell_type": "code",
   "execution_count": 129,
   "metadata": {},
   "outputs": [],
   "source": [
    "df['abstract_tokens'] = pd.Series(abstract_lemmatized)  # abstract_tokens column 추가"
   ]
  },
  {
   "cell_type": "code",
   "execution_count": 118,
   "metadata": {},
   "outputs": [
    {
     "data": {
      "text/plain": [
       "count    1941.000000\n",
       "mean      126.931479\n",
       "std       118.132609\n",
       "min         2.000000\n",
       "25%        88.000000\n",
       "50%       108.000000\n",
       "75%       130.000000\n",
       "max      1546.000000\n",
       "Name: abstract_tokens, dtype: float64"
      ]
     },
     "execution_count": 118,
     "metadata": {},
     "output_type": "execute_result"
    }
   ],
   "source": [
    "df['abstract_tokens'].str.len().describe()"
   ]
  },
  {
   "cell_type": "code",
   "execution_count": 119,
   "metadata": {},
   "outputs": [
    {
     "data": {
      "text/plain": [
       "<Axes: >"
      ]
     },
     "execution_count": 119,
     "metadata": {},
     "output_type": "execute_result"
    },
    {
     "data": {
      "image/png": "[encoded data removed]",
      "text/plain": [
       "<Figure size 640x480 with 1 Axes>"
      ]
     },
     "metadata": {},
     "output_type": "display_data"
    }
   ],
   "source": [
    "df['abstract_tokens'].str.len().hist()"
   ]
  },
  {
   "cell_type": "code",
   "execution_count": 130,
   "metadata": {},
   "outputs": [],
   "source": [
    "# 초록 토큰수가 20개 미만이거나 300개 이상인 경우 NA로 대체\n",
    "df.loc[(df['abstract_tokens'].str.len()<20)|(df['abstract_tokens'].str.len()>=300),'abstract_tokens'] = pd.NA"
   ]
  },
  {
   "cell_type": "code",
   "execution_count": 101,
   "metadata": {},
   "outputs": [
    {
     "data": {
      "text/plain": [
       "oa_kci\n",
       "oa     2731\n",
       "kci     166\n",
       "Name: count, dtype: int64"
      ]
     },
     "execution_count": 101,
     "metadata": {},
     "output_type": "execute_result"
    }
   ],
   "source": [
    "df['oa_kci'].value_counts()"
   ]
  },
  {
   "cell_type": "code",
   "execution_count": 132,
   "metadata": {},
   "outputs": [],
   "source": [
    "# 토큰 없는 경우 na가 아니라 []로 처리\n",
    "df['title_tokens'] = df['title_tokens'].apply(lambda x: x if isinstance(x, list) else [])\n",
    "df['abstract_tokens'] = df['abstract_tokens'].apply(lambda x: x if isinstance(x, list) else [])\n",
    "df['tokens'] = df.apply(lambda row: row['title_tokens'] + row['abstract_tokens'], axis=1)"
   ]
  },
  {
   "cell_type": "code",
   "execution_count": 133,
   "metadata": {},
   "outputs": [
    {
     "data": {
      "text/plain": [
       "[('south_korea', 724),\n",
       " ('north_korea', 376),\n",
       " ('north_korean', 365),\n",
       " ('south_korean', 362),\n",
       " ('article_examine', 207),\n",
       " ('cold_war', 203),\n",
       " ('korean_peninsula', 170),\n",
       " ('korean_society', 156),\n",
       " ('japanese_colonial', 149),\n",
       " ('east_asian', 146),\n",
       " ('east_asia', 140),\n",
       " ('united_states', 140),\n",
       " ('paper_examine', 122),\n",
       " ('colonial_period', 115),\n",
       " ('nineteenth_century', 92),\n",
       " ('joseon_dynasty', 90),\n",
       " ('zhu_xi', 90),\n",
       " ('republic_korea', 81),\n",
       " ('study_examine', 76),\n",
       " ('twentieth_century', 73),\n",
       " ('article_explore', 71),\n",
       " ('late_chosŏn', 71),\n",
       " ('kim_il', 71),\n",
       " ('eighteenth_century', 66),\n",
       " ('late_joseon', 62),\n",
       " ('take_place', 61),\n",
       " ('soviet_union', 60),\n",
       " ('article_argue', 59),\n",
       " ('national_identity', 58),\n",
       " ('park_chung', 56),\n",
       " ('case_study', 54),\n",
       " ('samguk_sagi', 54),\n",
       " ('nation_state', 53),\n",
       " ('king_sejong', 53),\n",
       " ('chosŏn_dynasty', 53),\n",
       " ('paper_argue', 49),\n",
       " ('early_twentieth', 48),\n",
       " ('confucian_scholar', 48),\n",
       " ('paper_analyze', 47),\n",
       " ('sixteenth_century', 47),\n",
       " ('popular_culture', 47),\n",
       " ('everyday_life', 47),\n",
       " ('korean_cinema', 47),\n",
       " ('world_war', 46),\n",
       " ('article_aim', 43),\n",
       " ('government_general', 43),\n",
       " ('late_nineteenth', 42),\n",
       " ('seventeenth_century', 42),\n",
       " ('new_woman', 42),\n",
       " ('kim_jong', 41),\n",
       " ('human_right', 41),\n",
       " ('shed_light', 40),\n",
       " ('north_koreans', 40),\n",
       " ('civil_society', 40),\n",
       " ('comfort_woman', 40),\n",
       " ('land_reform', 39),\n",
       " ('article_discuss', 39),\n",
       " ('japanese_empire', 38),\n",
       " ('chinese_character', 38),\n",
       " ('early_modern', 38),\n",
       " ('china_japan', 38),\n",
       " ('article_analyze', 37),\n",
       " ('foreign_policy', 36),\n",
       " ('joseon_period', 36),\n",
       " ('filial_piety', 36),\n",
       " ('catholic_church', 36),\n",
       " ('syngman_rhee', 35),\n",
       " ('study_explore', 34),\n",
       " ('ethnic_koreans', 34),\n",
       " ('study_analyze', 34),\n",
       " ('paper_aim', 34),\n",
       " ('science_technology', 33),\n",
       " ('social_movement', 33),\n",
       " ('article_attempt', 33),\n",
       " ('paper_explore', 33),\n",
       " ('contemporary_south', 33),\n",
       " ('previous_study', 32),\n",
       " ('historical_context', 32),\n",
       " ('korean_diaspora', 32),\n",
       " ('march_first', 32),\n",
       " ('literary_work', 32),\n",
       " ('zainichi_korean', 31),\n",
       " ('human_nature', 31),\n",
       " ('social_status', 30),\n",
       " ('short_story', 30),\n",
       " ('korean_wave', 30),\n",
       " ('second_generation', 30),\n",
       " ('article_investigate', 30),\n",
       " ('chosŏn_period', 30),\n",
       " ('study_aim', 30),\n",
       " ('park_regime', 30),\n",
       " ('middle_class', 30),\n",
       " ('film_industry', 30),\n",
       " ('western_learning', 30),\n",
       " ('colonial_rule', 29),\n",
       " ('annexation_korea', 29),\n",
       " ('make_possible', 28),\n",
       " ('colonial_era', 27),\n",
       " ('buddhist_monk', 27),\n",
       " ('king_jeongjo', 27)]"
      ]
     },
     "execution_count": 133,
     "metadata": {},
     "output_type": "execute_result"
    }
   ],
   "source": [
    "bigrams = make_bigram(df['tokens'].tolist(),10)\n",
    "# bigram 단어 확인\n",
    "bigram_list = [word for sent in bigrams for word in sent if \"_\" in word]\n",
    "Counter(bigram_list).most_common(100) # 상위 N개"
   ]
  },
  {
   "cell_type": "code",
   "execution_count": 134,
   "metadata": {},
   "outputs": [],
   "source": [
    "# Trigram 생성 함수 정의\n",
    "def make_trigram(data_words, bigram_min_count, trigram_min_count):\n",
    "    # Bigram 모델 생성\n",
    "    bigram = gensim.models.Phrases(data_words, min_count=bigram_min_count)\n",
    "    bigram_mod = gensim.models.phrases.Phraser(bigram)\n",
    "    \n",
    "    # Bigram 적용\n",
    "    data_words_bigrams = [bigram_mod[doc] for doc in remove_stopwords(data_words)]\n",
    "    \n",
    "    # Trigram 모델 생성\n",
    "    trigram = gensim.models.Phrases(data_words_bigrams, min_count=trigram_min_count)\n",
    "    trigram_mod = gensim.models.phrases.Phraser(trigram)\n",
    "    \n",
    "    # Trigram 적용\n",
    "    data_words_trigrams = [trigram_mod[doc] for doc in data_words_bigrams]\n",
    "    \n",
    "    return data_words_trigrams"
   ]
  },
  {
   "cell_type": "code",
   "execution_count": 135,
   "metadata": {},
   "outputs": [
    {
     "data": {
      "text/plain": [
       "[('kim_il_sung', 58), ('early_twentieth_century', 48), ('park_chung_hee', 37)]"
      ]
     },
     "execution_count": 135,
     "metadata": {},
     "output_type": "execute_result"
    }
   ],
   "source": [
    "# Trigram 생성 (bigram_min_count와 trigram_min_count는 예시 데이터에 따라 조정)\n",
    "trigrams = make_trigram(df['tokens'].tolist(), bigram_min_count=10, trigram_min_count=30)\n",
    "# trigram 단어 확인 (bigram 제외)\n",
    "trigram_only_list = [word for sent in trigrams for word in sent if word.count(\"_\") == 2]\n",
    "Counter(trigram_only_list).most_common(100)  # 상위 N개"
   ]
  },
  {
   "cell_type": "code",
   "execution_count": 136,
   "metadata": {},
   "outputs": [
    {
     "data": {
      "text/plain": [
       "2897"
      ]
     },
     "execution_count": 136,
     "metadata": {},
     "output_type": "execute_result"
    }
   ],
   "source": [
    "len(trigrams)"
   ]
  },
  {
   "cell_type": "code",
   "execution_count": 137,
   "metadata": {},
   "outputs": [
    {
     "data": {
      "text/plain": [
       "0       [fell, forest, fallowe, field, establish, narr...\n",
       "1       [history, formation, silhak, modern, korea, pr...\n",
       "2       [diplomatic, war, inter, korean, relation, per...\n",
       "3       [valuable, gold, korean, tungsten, japanese, w...\n",
       "4       [parhae, historiography, archaeology, internat...\n",
       "                              ...                        \n",
       "2892    [haunted, maiden, deity, jeju, island, jeju, i...\n",
       "2893    [study, trauma, aspect, cho, se, hee, novels, ...\n",
       "2894    [chinese, scholar, view, costume, goguryeo, ac...\n",
       "2895              [current, status, korean, study, china]\n",
       "2896    [marginal, man, notebook, history, contemporar...\n",
       "Name: tokens, Length: 2897, dtype: object"
      ]
     },
     "execution_count": 137,
     "metadata": {},
     "output_type": "execute_result"
    }
   ],
   "source": [
    "df['tokens'] = pd.Series(trigrams)\n",
    "df['tokens']"
   ]
  },
  {
   "cell_type": "code",
   "execution_count": 24,
   "metadata": {},
   "outputs": [
    {
     "data": {
      "application/vnd.jupyter.widget-view+json": {
       "model_id": "a271139efe4b439b8b46f70e8606a108",
       "version_major": 2,
       "version_minor": 0
      },
      "text/plain": [
       "  0%|          | 0/2761 [00:00<?, ?it/s]"
      ]
     },
     "metadata": {},
     "output_type": "display_data"
    }
   ],
   "source": [
    "# 불용어 제거\n",
    "df['tokens'] = df['tokens'].progress_map(lambda x:[w for w in x if w not in set(stop_words)])"
   ]
  },
  {
   "cell_type": "code",
   "execution_count": 138,
   "metadata": {},
   "outputs": [
    {
     "data": {
      "text/html": [
       "<div>\n",
       "<style scoped>\n",
       "    .dataframe tbody tr th:only-of-type {\n",
       "        vertical-align: middle;\n",
       "    }\n",
       "\n",
       "    .dataframe tbody tr th {\n",
       "        vertical-align: top;\n",
       "    }\n",
       "\n",
       "    .dataframe thead th {\n",
       "        text-align: right;\n",
       "    }\n",
       "</style>\n",
       "<table border=\"1\" class=\"dataframe\">\n",
       "  <thead>\n",
       "    <tr style=\"text-align: right;\">\n",
       "      <th></th>\n",
       "      <th>id</th>\n",
       "      <th>doi</th>\n",
       "      <th>journal</th>\n",
       "      <th>origin</th>\n",
       "      <th>title</th>\n",
       "      <th>publication_year</th>\n",
       "      <th>abstract</th>\n",
       "      <th>oa_kci</th>\n",
       "      <th>cited_by_count</th>\n",
       "      <th>title_tokens</th>\n",
       "      <th>abstract_tokens</th>\n",
       "      <th>tokens</th>\n",
       "    </tr>\n",
       "  </thead>\n",
       "  <tbody>\n",
       "    <tr>\n",
       "      <th>0</th>\n",
       "      <td>https://openalex.org/W4384432764</td>\n",
       "      <td>https://doi.org/10.1353/seo.2023.a902140</td>\n",
       "      <td>Seoul Journal of Korean Studies</td>\n",
       "      <td>in</td>\n",
       "      <td>Felled Forests and Fallowed Fields: Establishi...</td>\n",
       "      <td>2023</td>\n",
       "      <td>Goryeo (918–1392) was a politically and commer...</td>\n",
       "      <td>oa</td>\n",
       "      <td>1</td>\n",
       "      <td>[fell, forest, fallowe, field, establish, narr...</td>\n",
       "      <td>[goryeo, integrate, part, wide, mongol, empire...</td>\n",
       "      <td>[fell, forest, fallowe, field, establish, narr...</td>\n",
       "    </tr>\n",
       "    <tr>\n",
       "      <th>1</th>\n",
       "      <td>https://openalex.org/W4384432829</td>\n",
       "      <td>https://doi.org/10.1353/seo.2023.a902142</td>\n",
       "      <td>Seoul Journal of Korean Studies</td>\n",
       "      <td>in</td>\n",
       "      <td>The History of the Formation of Silhak in Mode...</td>\n",
       "      <td>2023</td>\n",
       "      <td>This article examines the historical trajector...</td>\n",
       "      <td>oa</td>\n",
       "      <td>1</td>\n",
       "      <td>[history, formation, silhak, modern, korea, pr...</td>\n",
       "      <td>[article, examine, historical, trajectory, con...</td>\n",
       "      <td>[history, formation, silhak, modern, korea, pr...</td>\n",
       "    </tr>\n",
       "    <tr>\n",
       "      <th>2</th>\n",
       "      <td>https://openalex.org/W1578642520</td>\n",
       "      <td>https://doi.org/10.1353/seo.2015.0003</td>\n",
       "      <td>Seoul Journal of Korean Studies</td>\n",
       "      <td>in</td>\n",
       "      <td>Diplomatic War: Inter-Korean Relations in the ...</td>\n",
       "      <td>2015</td>\n",
       "      <td>The period of the 1970s was a turning point in...</td>\n",
       "      <td>oa</td>\n",
       "      <td>5</td>\n",
       "      <td>[diplomatic, war, inter, -, korean, relation, ...</td>\n",
       "      <td>[period, 1970, turning, point, relation, north...</td>\n",
       "      <td>[diplomatic, war, inter, korean, relation, per...</td>\n",
       "    </tr>\n",
       "    <tr>\n",
       "      <th>3</th>\n",
       "      <td>https://openalex.org/W1590043962</td>\n",
       "      <td>https://doi.org/10.1353/seo.2013.0023</td>\n",
       "      <td>Seoul Journal of Korean Studies</td>\n",
       "      <td>in</td>\n",
       "      <td>More Valuable than Gold: Korean Tungsten and t...</td>\n",
       "      <td>2013</td>\n",
       "      <td>A central component of the Japanese government...</td>\n",
       "      <td>oa</td>\n",
       "      <td>5</td>\n",
       "      <td>[valuable, gold, korean, tungsten, japanese, w...</td>\n",
       "      <td>[central, component, japanese, government, for...</td>\n",
       "      <td>[valuable, gold, korean, tungsten, japanese, w...</td>\n",
       "    </tr>\n",
       "    <tr>\n",
       "      <th>4</th>\n",
       "      <td>https://openalex.org/W210363985</td>\n",
       "      <td>https://doi.org/10.1353/seo.2014.0005</td>\n",
       "      <td>Seoul Journal of Korean Studies</td>\n",
       "      <td>in</td>\n",
       "      <td>Parhae in Historiography and Archaeology: Inte...</td>\n",
       "      <td>2014</td>\n",
       "      <td>The history of the kingdom of Parhae (Ch. Boha...</td>\n",
       "      <td>oa</td>\n",
       "      <td>5</td>\n",
       "      <td>[parhae, historiography, archaeology, internat...</td>\n",
       "      <td>[history, kingdom, parhae, ch, ., bohai, jp, ....</td>\n",
       "      <td>[parhae, historiography, archaeology, internat...</td>\n",
       "    </tr>\n",
       "    <tr>\n",
       "      <th>...</th>\n",
       "      <td>...</td>\n",
       "      <td>...</td>\n",
       "      <td>...</td>\n",
       "      <td>...</td>\n",
       "      <td>...</td>\n",
       "      <td>...</td>\n",
       "      <td>...</td>\n",
       "      <td>...</td>\n",
       "      <td>...</td>\n",
       "      <td>...</td>\n",
       "      <td>...</td>\n",
       "      <td>...</td>\n",
       "    </tr>\n",
       "    <tr>\n",
       "      <th>2892</th>\n",
       "      <td>ART002721077</td>\n",
       "      <td>https://doi.org/10.25024/review.2021.24.1.009</td>\n",
       "      <td>The Review of Korean Studies</td>\n",
       "      <td>in</td>\n",
       "      <td>The Haunted Maiden Deities on Jeju Island</td>\n",
       "      <td>2021</td>\n",
       "      <td>Jeju Island reveals exemplary openness to ghos...</td>\n",
       "      <td>kci</td>\n",
       "      <td>&lt;NA&gt;</td>\n",
       "      <td>[haunted, maiden, deity, jeju, island]</td>\n",
       "      <td>[jeju, island, reveal, exemplary, openness, gh...</td>\n",
       "      <td>[haunted, maiden, deity, jeju, island, jeju, i...</td>\n",
       "    </tr>\n",
       "    <tr>\n",
       "      <th>2893</th>\n",
       "      <td>ART002721082</td>\n",
       "      <td>https://doi.org/10.25024/review.2021.24.1.010</td>\n",
       "      <td>The Review of Korean Studies</td>\n",
       "      <td>in</td>\n",
       "      <td>A Study on Trauma Aspects in Cho Se-Hee’s Nove...</td>\n",
       "      <td>2021</td>\n",
       "      <td>The aim of this paper is to study the problems...</td>\n",
       "      <td>kci</td>\n",
       "      <td>&lt;NA&gt;</td>\n",
       "      <td>[study, trauma, aspect, cho, se, -, hee, novel...</td>\n",
       "      <td>[aim, paper, study, problem, cause, trauma, as...</td>\n",
       "      <td>[study, trauma, aspect, cho, se, hee, novels, ...</td>\n",
       "    </tr>\n",
       "    <tr>\n",
       "      <th>2894</th>\n",
       "      <td>ART002721086</td>\n",
       "      <td>https://doi.org/10.25024/review.2021.24.1.012</td>\n",
       "      <td>The Review of Korean Studies</td>\n",
       "      <td>in</td>\n",
       "      <td>A Chinese Scholar’s View on the Costume of Gog...</td>\n",
       "      <td>2021</td>\n",
       "      <td>NaN</td>\n",
       "      <td>kci</td>\n",
       "      <td>&lt;NA&gt;</td>\n",
       "      <td>[chinese, scholar, view, costume, goguryeo, ac...</td>\n",
       "      <td>[]</td>\n",
       "      <td>[chinese, scholar, view, costume, goguryeo, ac...</td>\n",
       "    </tr>\n",
       "    <tr>\n",
       "      <th>2895</th>\n",
       "      <td>ART002721085</td>\n",
       "      <td>https://doi.org/10.25024/review.2021.24.1.011</td>\n",
       "      <td>The Review of Korean Studies</td>\n",
       "      <td>in</td>\n",
       "      <td>Current Status of Korean Studies in China</td>\n",
       "      <td>2021</td>\n",
       "      <td>NaN</td>\n",
       "      <td>kci</td>\n",
       "      <td>&lt;NA&gt;</td>\n",
       "      <td>[current, status, korean, study, china]</td>\n",
       "      <td>[]</td>\n",
       "      <td>[current, status, korean, study, china]</td>\n",
       "    </tr>\n",
       "    <tr>\n",
       "      <th>2896</th>\n",
       "      <td>ART002721099</td>\n",
       "      <td>https://doi.org/10.25024/review.2021.24.1.015</td>\n",
       "      <td>The Review of Korean Studies</td>\n",
       "      <td>in</td>\n",
       "      <td>A Review of Marginal Man’s Notebook of the His...</td>\n",
       "      <td>2021</td>\n",
       "      <td>NaN</td>\n",
       "      <td>kci</td>\n",
       "      <td>&lt;NA&gt;</td>\n",
       "      <td>[review, marginal, man, notebook, history, con...</td>\n",
       "      <td>[]</td>\n",
       "      <td>[marginal, man, notebook, history, contemporar...</td>\n",
       "    </tr>\n",
       "  </tbody>\n",
       "</table>\n",
       "<p>2897 rows × 12 columns</p>\n",
       "</div>"
      ],
      "text/plain": [
       "                                    id  \\\n",
       "0     https://openalex.org/W4384432764   \n",
       "1     https://openalex.org/W4384432829   \n",
       "2     https://openalex.org/W1578642520   \n",
       "3     https://openalex.org/W1590043962   \n",
       "4      https://openalex.org/W210363985   \n",
       "...                                ...   \n",
       "2892                      ART002721077   \n",
       "2893                      ART002721082   \n",
       "2894                      ART002721086   \n",
       "2895                      ART002721085   \n",
       "2896                      ART002721099   \n",
       "\n",
       "                                                doi  \\\n",
       "0          https://doi.org/10.1353/seo.2023.a902140   \n",
       "1          https://doi.org/10.1353/seo.2023.a902142   \n",
       "2             https://doi.org/10.1353/seo.2015.0003   \n",
       "3             https://doi.org/10.1353/seo.2013.0023   \n",
       "4             https://doi.org/10.1353/seo.2014.0005   \n",
       "...                                             ...   \n",
       "2892  https://doi.org/10.25024/review.2021.24.1.009   \n",
       "2893  https://doi.org/10.25024/review.2021.24.1.010   \n",
       "2894  https://doi.org/10.25024/review.2021.24.1.012   \n",
       "2895  https://doi.org/10.25024/review.2021.24.1.011   \n",
       "2896  https://doi.org/10.25024/review.2021.24.1.015   \n",
       "\n",
       "                              journal origin  \\\n",
       "0     Seoul Journal of Korean Studies     in   \n",
       "1     Seoul Journal of Korean Studies     in   \n",
       "2     Seoul Journal of Korean Studies     in   \n",
       "3     Seoul Journal of Korean Studies     in   \n",
       "4     Seoul Journal of Korean Studies     in   \n",
       "...                               ...    ...   \n",
       "2892     The Review of Korean Studies     in   \n",
       "2893     The Review of Korean Studies     in   \n",
       "2894     The Review of Korean Studies     in   \n",
       "2895     The Review of Korean Studies     in   \n",
       "2896     The Review of Korean Studies     in   \n",
       "\n",
       "                                                  title  publication_year  \\\n",
       "0     Felled Forests and Fallowed Fields: Establishi...              2023   \n",
       "1     The History of the Formation of Silhak in Mode...              2023   \n",
       "2     Diplomatic War: Inter-Korean Relations in the ...              2015   \n",
       "3     More Valuable than Gold: Korean Tungsten and t...              2013   \n",
       "4     Parhae in Historiography and Archaeology: Inte...              2014   \n",
       "...                                                 ...               ...   \n",
       "2892          The Haunted Maiden Deities on Jeju Island              2021   \n",
       "2893  A Study on Trauma Aspects in Cho Se-Hee’s Nove...              2021   \n",
       "2894  A Chinese Scholar’s View on the Costume of Gog...              2021   \n",
       "2895          Current Status of Korean Studies in China              2021   \n",
       "2896  A Review of Marginal Man’s Notebook of the His...              2021   \n",
       "\n",
       "                                               abstract oa_kci cited_by_count  \\\n",
       "0     Goryeo (918–1392) was a politically and commer...     oa              1   \n",
       "1     This article examines the historical trajector...     oa              1   \n",
       "2     The period of the 1970s was a turning point in...     oa              5   \n",
       "3     A central component of the Japanese government...     oa              5   \n",
       "4     The history of the kingdom of Parhae (Ch. Boha...     oa              5   \n",
       "...                                                 ...    ...            ...   \n",
       "2892  Jeju Island reveals exemplary openness to ghos...    kci           <NA>   \n",
       "2893  The aim of this paper is to study the problems...    kci           <NA>   \n",
       "2894                                                NaN    kci           <NA>   \n",
       "2895                                                NaN    kci           <NA>   \n",
       "2896                                                NaN    kci           <NA>   \n",
       "\n",
       "                                           title_tokens  \\\n",
       "0     [fell, forest, fallowe, field, establish, narr...   \n",
       "1     [history, formation, silhak, modern, korea, pr...   \n",
       "2     [diplomatic, war, inter, -, korean, relation, ...   \n",
       "3     [valuable, gold, korean, tungsten, japanese, w...   \n",
       "4     [parhae, historiography, archaeology, internat...   \n",
       "...                                                 ...   \n",
       "2892             [haunted, maiden, deity, jeju, island]   \n",
       "2893  [study, trauma, aspect, cho, se, -, hee, novel...   \n",
       "2894  [chinese, scholar, view, costume, goguryeo, ac...   \n",
       "2895            [current, status, korean, study, china]   \n",
       "2896  [review, marginal, man, notebook, history, con...   \n",
       "\n",
       "                                        abstract_tokens  \\\n",
       "0     [goryeo, integrate, part, wide, mongol, empire...   \n",
       "1     [article, examine, historical, trajectory, con...   \n",
       "2     [period, 1970, turning, point, relation, north...   \n",
       "3     [central, component, japanese, government, for...   \n",
       "4     [history, kingdom, parhae, ch, ., bohai, jp, ....   \n",
       "...                                                 ...   \n",
       "2892  [jeju, island, reveal, exemplary, openness, gh...   \n",
       "2893  [aim, paper, study, problem, cause, trauma, as...   \n",
       "2894                                                 []   \n",
       "2895                                                 []   \n",
       "2896                                                 []   \n",
       "\n",
       "                                                 tokens  \n",
       "0     [fell, forest, fallowe, field, establish, narr...  \n",
       "1     [history, formation, silhak, modern, korea, pr...  \n",
       "2     [diplomatic, war, inter, korean, relation, per...  \n",
       "3     [valuable, gold, korean, tungsten, japanese, w...  \n",
       "4     [parhae, historiography, archaeology, internat...  \n",
       "...                                                 ...  \n",
       "2892  [haunted, maiden, deity, jeju, island, jeju, i...  \n",
       "2893  [study, trauma, aspect, cho, se, hee, novels, ...  \n",
       "2894  [chinese, scholar, view, costume, goguryeo, ac...  \n",
       "2895            [current, status, korean, study, china]  \n",
       "2896  [marginal, man, notebook, history, contemporar...  \n",
       "\n",
       "[2897 rows x 12 columns]"
      ]
     },
     "execution_count": 138,
     "metadata": {},
     "output_type": "execute_result"
    }
   ],
   "source": [
    "df"
   ]
  },
  {
   "cell_type": "code",
   "execution_count": 139,
   "metadata": {},
   "outputs": [],
   "source": [
    "df.to_pickle('./240407_KS_KCI_merged_tokens.pkl')"
   ]
  }
 ],
 "metadata": {
  "kernelspec": {
   "display_name": "python311",
   "language": "python",
   "name": "python3"
  },
  "language_info": {
   "codemirror_mode": {
    "name": "ipython",
    "version": 3
   },
   "file_extension": ".py",
   "mimetype": "text/x-python",
   "name": "python",
   "nbconvert_exporter": "python",
   "pygments_lexer": "ipython3",
   "version": "3.11.6"
  }
 },
 "nbformat": 4,
 "nbformat_minor": 2
}
